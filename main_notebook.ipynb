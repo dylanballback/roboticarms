{
 "cells": [
  {
   "cell_type": "markdown",
   "metadata": {},
   "source": [
    "# Chapter 2 Homework"
   ]
  },
  {
   "cell_type": "code",
   "execution_count": 13,
   "metadata": {},
   "outputs": [],
   "source": [
    "from sre_compile import isstring\n",
    "from turtle import back\n",
    "\n",
    "import numpy as np\n",
    "import math\n",
    "\n",
    "def axis_rotation(angle, axis):\n",
    "    \"\"\"\n",
    "    Takes in an angle in degrees and a axis to rotate around and returns rotation matrix.\n",
    "\n",
    "        Parameters:\n",
    "                angle (float): Angle of rotation\n",
    "                axis (str): Axis of rotation ('x','y', or 'z') \n",
    "\n",
    "        Returns:\n",
    "                Rotation matrix of angle about axis of rotation entered\n",
    "    \"\"\"\n",
    "    \n",
    "    #convert angle from degrees to radians\n",
    "    angle_rad = math.radians(angle)\n",
    "    \n",
    "    #Define s as sin(angle in radians)\n",
    "    s = np.sin(angle_rad)\n",
    "    #Define c as sin(angle in radians)\n",
    "    c = np.cos(angle_rad)\n",
    "\n",
    "\n",
    "    if axis == 'x':\n",
    "        Rx = np.array([(1, 0, 0),\n",
    "                       (0, c, -s),\n",
    "                       (0, s, c)], dtype=float)\n",
    "        return (Rx)\n",
    "    elif axis == 'y':\n",
    "        Ry = np.array([(c, 0, s),\n",
    "                       (0, 1, 0),\n",
    "                       (-s, 0, c)], dtype=float)\n",
    "        return (Ry)\n",
    "    elif axis == 'z':\n",
    "        Rx = np.array([(c, -s, 0),\n",
    "                       (s, c, 0),\n",
    "                       (0, 0, 1)], dtype=float)\n",
    "        return (Rx)\n",
    "    else:\n",
    "        print(\"Error\")\n",
    "\n",
    "\n",
    "\n",
    "def custom_axis_rotation(angle, axis_vector):\n",
    "    \"\"\"\n",
    "    Takes in an angle in degrees and a custom axis vector to rotate around and returns rotation matrix.\n",
    "\n",
    "        Parameters:\n",
    "                angle (float): Angle of rotation\n",
    "                axis_vector (np.array): Custom Axis of rotation vector array ([0, 0, 0]) \n",
    "\n",
    "        Returns:\n",
    "                Rotation matrix of angle about custom axis vector of rotation entered\n",
    "    \"\"\"\n",
    "\n",
    "      #convert angle from degrees to radians\n",
    "    angle_rad = math.radians(angle)\n",
    "    \n",
    "    #Define s as sin(angle in radians)\n",
    "    s = np.sin(angle_rad)\n",
    "    #Define c as sin(angle in radians)\n",
    "    c = np.cos(angle_rad)\n",
    "\n",
    "    #Normalizes the axis vector\n",
    "    axis_vector_norm = axis_vector / np.linalg.norm(axis_vector)\n",
    "\n",
    "    v = 1 - c\n",
    "   \n",
    "   #Define x, y, z of normalized vector\n",
    "    x = axis_vector_norm[0]\n",
    "    y = axis_vector_norm[1]\n",
    "    z = axis_vector_norm[2]\n",
    "  \n",
    "    #Break down of custom axis rotation matrix calculations\n",
    "    aa = x*x*v+c\n",
    "    ab = x*y*v-z*s\n",
    "    ac = x*z*v+y*s\n",
    "    \n",
    "    ba = x*y*v+z*s\n",
    "    bb = y*y*v+c\n",
    "    bc = y*z*v-x*s\n",
    "\n",
    "    ca = x*z*v-y*s\n",
    "    cb = y*z*v+x*s\n",
    "    cc = z*z*v+c\n",
    "\n",
    "    custom_axis_rotation_matrix = np.array([(aa, ab, ac),\n",
    "                                            (ba, bb, bc),\n",
    "                                            (ca, cb, cc)], dtype=float)\n",
    "\n",
    "    return custom_axis_rotation_matrix\n",
    "\n",
    "\n",
    "def custom_transform(angle, axis, pos):\n",
    "    \"\"\"\n",
    "    Takes in an angle in degrees and rotation axis of the base frame or custom axis vector to rotate around\n",
    "    and the subsequent 1x3 translation vector  and returns the transform rotation matrix.\n",
    "        Parameters:\n",
    "                angle (float): Angle of rotation\n",
    "                axis (np.array or str): Custom Axis of rotation vector array ([0, 0, 0]) or str for axis of rotation ('x','y', or 'z')\n",
    "                pos (np.array): Translation vector in a 1x3 matrix\n",
    "        Returns:\n",
    "                Rotation transform matrix of a angle about rotation axis of the base frame or custom axis vector of rotation by the custom translation vector entered\n",
    "    \"\"\"\n",
    "    #Check if axis is a string\n",
    "    if isstring(axis) == 1:\n",
    "        #Check if axis is rotation about axis x, y, or z\n",
    "        if axis == 'x' or axis == 'y' or axis == 'z':\n",
    "            r_m = axis_rotation(angle, axis)\n",
    "    elif axis.size == 3:\n",
    "        r_m = custom_axis_rotation(angle, axis)\n",
    "    \n",
    "    t_v = pos\n",
    "\n",
    "    transform_matrix = np.array([(r_m[0,0], r_m[0,1], r_m[0,2], t_v[0]),\n",
    "                                 (r_m[1,0], r_m[1,1], r_m[1,2], t_v[1]),\n",
    "                                 (r_m[2,0], r_m[2,1], r_m[2,2], t_v[2]),\n",
    "                                 (0, 0, 0, 1)], dtype=float)\n",
    "    return transform_matrix"
   ]
  },
  {
   "cell_type": "code",
   "execution_count": 14,
   "metadata": {},
   "outputs": [],
   "source": [
    "import numpy as np"
   ]
  },
  {
   "cell_type": "code",
   "execution_count": 4,
   "metadata": {},
   "outputs": [
    {
     "name": "stdout",
     "output_type": "stream",
     "text": [
      "[[ 0.71984631 -0.          0.        ]\n",
      " [ 0.          0.76604444  0.        ]\n",
      " [-0.          0.          0.93969262]]\n"
     ]
    }
   ],
   "source": [
    "# QUIZ \n",
    "import math\n",
    "import numpy as np\n",
    "#ZYZ Euler Angles\n",
    "\n",
    "def custom_rotation(angle, angle2):\n",
    "    \n",
    "      #convert angle from degrees to radians\n",
    "    angle_rad = math.radians(angle)\n",
    "    angle_rad2 = math.radians(angle2)\n",
    "    \n",
    "    #Define s as sin(angle in radians)\n",
    "    s1 = np.sin(angle_rad)\n",
    "    #Define c as sin(angle in radians)\n",
    "    c1 = np.cos(angle_rad)\n",
    "\n",
    "     #Define s as sin(angle in radians)\n",
    "    s2 = np.sin(angle_rad2)\n",
    "    #Define c as sin(angle in radians)\n",
    "    c2 = np.cos(angle_rad2)\n",
    "  \n",
    "    z_prime_matrix = np.array([(c1, -s1, 0),\n",
    "                                (s1, c1, 0),\n",
    "                                (0, 0, 1)], dtype=float)\n",
    "\n",
    "    y_prime_matrix = np.array([(c2, 0, s2),\n",
    "                                (0, 1, 0),\n",
    "                                (-s2, 0, c2)], dtype=float)\n",
    "\n",
    "    ans = np.multiply(z_prime_matrix, y_prime_matrix)                         \n",
    "\n",
    "    return ans\n",
    "\n",
    "\n",
    "print(custom_rotation(40,20))\n"
   ]
  },
  {
   "cell_type": "markdown",
   "metadata": {},
   "source": [
    "First test:"
   ]
  },
  {
   "cell_type": "code",
   "execution_count": 15,
   "metadata": {},
   "outputs": [
    {
     "name": "stdout",
     "output_type": "stream",
     "text": [
      "[[ 1.         0.         0.       ]\n",
      " [ 0.         0.5       -0.8660254]\n",
      " [ 0.         0.8660254  0.5      ]]\n",
      "[[ 0.5        0.         0.8660254]\n",
      " [ 0.         1.         0.       ]\n",
      " [-0.8660254  0.         0.5      ]]\n",
      "[[ 0.5       -0.8660254  0.       ]\n",
      " [ 0.8660254  0.5        0.       ]\n",
      " [ 0.         0.         1.       ]]\n"
     ]
    }
   ],
   "source": [
    "print(axis_rotation(60, 'x'))\n",
    "print(axis_rotation(60, 'y'))\n",
    "print(axis_rotation(60, 'z'))"
   ]
  },
  {
   "cell_type": "markdown",
   "metadata": {},
   "source": [
    "### Second test:"
   ]
  },
  {
   "cell_type": "code",
   "execution_count": 16,
   "metadata": {},
   "outputs": [
    {
     "name": "stdout",
     "output_type": "stream",
     "text": [
      "[[ 0.50666667 -0.66666667  0.54666667]\n",
      " [ 0.73333333  0.66666667  0.13333333]\n",
      " [-0.45333333  0.33333333  0.82666667]]\n"
     ]
    }
   ],
   "source": [
    "print (custom_axis_rotation(60, np.array([5, 25, 35])))"
   ]
  },
  {
   "cell_type": "markdown",
   "metadata": {},
   "source": [
    "### Third test:"
   ]
  },
  {
   "cell_type": "code",
   "execution_count": 17,
   "metadata": {},
   "outputs": [
    {
     "name": "stdout",
     "output_type": "stream",
     "text": [
      "[[ 1.         0.         0.         5.       ]\n",
      " [ 0.         0.5       -0.8660254 25.       ]\n",
      " [ 0.         0.8660254  0.5       35.       ]\n",
      " [ 0.         0.         0.         1.       ]]\n",
      "[[ 0.66666667 -0.33333333  0.66666667  5.        ]\n",
      " [ 0.66666667  0.66666667 -0.33333333 25.        ]\n",
      " [-0.33333333  0.66666667  0.66666667 35.        ]\n",
      " [ 0.          0.          0.          1.        ]]\n"
     ]
    }
   ],
   "source": [
    "print(custom_transform(60, 'x', np.array([5, 25, 35])))\n",
    "print(custom_transform(60, np.array([5, 5, 5]), np.array([5, 25, 35])))"
   ]
  },
  {
   "cell_type": "code",
   "execution_count": 32,
   "metadata": {},
   "outputs": [
    {
     "name": "stdout",
     "output_type": "stream",
     "text": [
      "[[ 0.93969262  0.34202014  0.        ]\n",
      " [-0.34202014  0.93969262  0.        ]\n",
      " [ 0.          0.          1.        ]]\n",
      "---------------------------------------\n",
      "[[-0.34202014  0.         -0.93969262]\n",
      " [ 0.          1.          0.        ]\n",
      " [ 0.93969262  0.         -0.34202014]]\n",
      "---------------------------------------\n"
     ]
    }
   ],
   "source": [
    "z20 = axis_rotation(-20,'z')\n",
    "y110 = axis_rotation(-110,'y')\n",
    "print(z20)\n",
    "print('---------------------------------------')\n",
    "print(y110)\n",
    "print('---------------------------------------')"
   ]
  }
 ],
 "metadata": {
  "interpreter": {
   "hash": "aee8b7b246df8f9039afb4144a1f6fd8d2ca17a180786b69acc140d282b71a49"
  },
  "kernelspec": {
   "display_name": "Python 3.9.7 64-bit",
   "language": "python",
   "name": "python3"
  },
  "language_info": {
   "codemirror_mode": {
    "name": "ipython",
    "version": 3
   },
   "file_extension": ".py",
   "mimetype": "text/x-python",
   "name": "python",
   "nbconvert_exporter": "python",
   "pygments_lexer": "ipython3",
   "version": "3.8.5"
  },
  "orig_nbformat": 4
 },
 "nbformat": 4,
 "nbformat_minor": 2
}
